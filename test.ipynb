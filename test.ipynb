{
 "cells": [
  {
   "cell_type": "code",
   "execution_count": 1,
   "metadata": {},
   "outputs": [
    {
     "ename": "NameError",
     "evalue": "name 'p' is not defined",
     "output_type": "error",
     "traceback": [
      "\u001b[1;31m---------------------------------------------------------------------------\u001b[0m",
      "\u001b[1;31mNameError\u001b[0m                                 Traceback (most recent call last)",
      "Cell \u001b[1;32mIn[1], line 26\u001b[0m\n\u001b[0;32m     13\u001b[0m dict2 \u001b[39m=\u001b[39m [ \n\u001b[0;32m     14\u001b[0m     {\n\u001b[0;32m     15\u001b[0m      \u001b[39m'\u001b[39m\u001b[39mmake\u001b[39m\u001b[39m'\u001b[39m: \u001b[39m'\u001b[39m\u001b[39mdhff\u001b[39m\u001b[39m'\u001b[39m,\n\u001b[1;32m   (...)\u001b[0m\n\u001b[0;32m     21\u001b[0m     }\n\u001b[0;32m     22\u001b[0m ]\n\u001b[0;32m     24\u001b[0m dict3 \u001b[39m=\u001b[39m []\n\u001b[1;32m---> 26\u001b[0m p\n",
      "\u001b[1;31mNameError\u001b[0m: name 'p' is not defined"
     ]
    },
    {
     "ename": "",
     "evalue": "",
     "output_type": "error",
     "traceback": [
      "\u001b[1;31mThe Kernel crashed while executing code in the the current cell or a previous cell. Please review the code in the cell(s) to identify a possible cause of the failure. Click <a href='https://aka.ms/vscodeJupyterKernelCrash'>here</a> for more info. View Jupyter <a href='command:jupyter.viewOutput'>log</a> for further details."
     ]
    }
   ],
   "source": [
    "dict =  [ \n",
    "    {\n",
    "     'make': 'dhff',\n",
    "     'col' : 'red'   \n",
    "    },\n",
    "    {\n",
    "        'make' : 'dff',\n",
    "        'cild' : 'dhjf'\n",
    "    }\n",
    "]\n",
    "\n",
    "\n",
    "dict2 = [ \n",
    "    {\n",
    "     'make': 'dhff',\n",
    "     'carry' : 'red'   \n",
    "    },\n",
    "    {\n",
    "        'make' : 'dff',\n",
    "        'cild' : 'dhjf'\n",
    "    }\n",
    "]\n",
    "\n",
    "dict3 = []\n",
    "\n",
    "p"
   ]
  },
  {
   "cell_type": "code",
   "execution_count": null,
   "metadata": {},
   "outputs": [
    {
     "data": {
      "text/plain": [
       "{'make': 'dhff', 'col': 'red'}"
      ]
     },
     "execution_count": 3,
     "metadata": {},
     "output_type": "execute_result"
    }
   ],
   "source": [
    "dict[0]"
   ]
  },
  {
   "cell_type": "code",
   "execution_count": 10,
   "metadata": {},
   "outputs": [
    {
     "name": "stdout",
     "output_type": "stream",
     "text": [
      "{'make': 'dhff', 'col': 'red'}\n",
      "{'make': 'dff', 'cild': 'dhjf'}\n",
      "{'make': 'dhff', 'carry': 'red'}\n",
      "{'make': 'dff', 'cild': 'dhjf'}\n"
     ]
    }
   ],
   "source": [
    "ls = []\n",
    "ms = []\n",
    "\n",
    "for d in dict,dict2,dict3:\n",
    "   for ds in d :\n",
    "        print(ds)\n",
    "        for a,b in ds.items():\n",
    "            ls.append(a)\n",
    "            ms.append(b)\n",
    "    "
   ]
  },
  {
   "cell_type": "code",
   "execution_count": 11,
   "metadata": {},
   "outputs": [
    {
     "data": {
      "text/plain": [
       "{'carry', 'cild', 'col', 'make'}"
      ]
     },
     "execution_count": 11,
     "metadata": {},
     "output_type": "execute_result"
    }
   ],
   "source": [
    " set(ls)"
   ]
  },
  {
   "cell_type": "code",
   "execution_count": 12,
   "metadata": {},
   "outputs": [
    {
     "data": {
      "text/plain": [
       "['make', 'col', 'make', 'cild', 'make', 'carry', 'make', 'cild']"
      ]
     },
     "execution_count": 12,
     "metadata": {},
     "output_type": "execute_result"
    }
   ],
   "source": [
    "ls"
   ]
  },
  {
   "cell_type": "code",
   "execution_count": 13,
   "metadata": {},
   "outputs": [
    {
     "data": {
      "text/plain": [
       "['dhff', 'red', 'dff', 'dhjf', 'dhff', 'red', 'dff', 'dhjf']"
      ]
     },
     "execution_count": 13,
     "metadata": {},
     "output_type": "execute_result"
    }
   ],
   "source": [
    "ms"
   ]
  },
  {
   "cell_type": "code",
   "execution_count": null,
   "metadata": {},
   "outputs": [],
   "source": [
    "            feature_names = set().union(*(d.keys() for d in data)) #unpacks the generator and returns a set\n",
    "\n",
    "            logging.info(feature_names)\n",
    "\n",
    "            #create column definitions\n",
    "            column_definition = ', '.join([f'{column} varchar(50)' for column in feature_names])"
   ]
  },
  {
   "cell_type": "code",
   "execution_count": 63,
   "metadata": {},
   "outputs": [],
   "source": [
    "a = ['ffkgkg',None,'dkfnkf']"
   ]
  },
  {
   "cell_type": "code",
   "execution_count": 72,
   "metadata": {},
   "outputs": [
    {
     "ename": "SyntaxError",
     "evalue": "invalid syntax (2159247077.py, line 1)",
     "output_type": "error",
     "traceback": [
      "\u001b[1;36m  File \u001b[1;32m\"C:\\Users\\user\\AppData\\Local\\Temp\\ipykernel_16348\\2159247077.py\"\u001b[1;36m, line \u001b[1;32m1\u001b[0m\n\u001b[1;33m    [print(b) if b is not None  in a for b in a]\u001b[0m\n\u001b[1;37m                                     ^\u001b[0m\n\u001b[1;31mSyntaxError\u001b[0m\u001b[1;31m:\u001b[0m invalid syntax\n"
     ]
    }
   ],
   "source": [
    "[print(b) if b is not None  in a for b in a]"
   ]
  },
  {
   "cell_type": "code",
   "execution_count": null,
   "metadata": {},
   "outputs": [],
   "source": []
  }
 ],
 "metadata": {
  "kernelspec": {
   "display_name": "base",
   "language": "python",
   "name": "python3"
  },
  "language_info": {
   "codemirror_mode": {
    "name": "ipython",
    "version": 3
   },
   "file_extension": ".py",
   "mimetype": "text/x-python",
   "name": "python",
   "nbconvert_exporter": "python",
   "pygments_lexer": "ipython3",
   "version": "3.10.11"
  },
  "orig_nbformat": 4
 },
 "nbformat": 4,
 "nbformat_minor": 2
}
